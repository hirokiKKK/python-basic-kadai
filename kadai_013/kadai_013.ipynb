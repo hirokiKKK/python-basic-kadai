{
  "nbformat": 4,
  "nbformat_minor": 0,
  "metadata": {
    "colab": {
      "provenance": []
    },
    "kernelspec": {
      "name": "python3",
      "display_name": "Python 3"
    },
    "language_info": {
      "name": "python"
    }
  },
  "cells": [
    {
      "cell_type": "code",
      "execution_count": 40,
      "metadata": {
        "colab": {
          "base_uri": "https://localhost:8080/"
        },
        "id": "iHG7oeKkKyGe",
        "outputId": "08eaeff2-f55a-41a8-ae7e-da9369e82c7d"
      },
      "outputs": [
        {
          "output_type": "stream",
          "name": "stdout",
          "text": [
            "121.0\n"
          ]
        }
      ],
      "source": [
        "def calculate_total(price, tax):\n",
        "    return price + (price * tax / 100)\n",
        "\n",
        "total = calculate_total(110, 10)\n",
        "\n",
        "print(total)"
      ]
    }
  ]
}