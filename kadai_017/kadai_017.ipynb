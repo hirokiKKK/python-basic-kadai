{
  "nbformat": 4,
  "nbformat_minor": 0,
  "metadata": {
    "colab": {
      "provenance": []
    },
    "kernelspec": {
      "name": "python3",
      "display_name": "Python 3"
    },
    "language_info": {
      "name": "python"
    }
  },
  "cells": [
    {
      "cell_type": "code",
      "execution_count": 18,
      "metadata": {
        "colab": {
          "base_uri": "https://localhost:8080/"
        },
        "id": "puiOhiBE8qKI",
        "outputId": "4f69d5ab-c1fa-4833-9eca-d8d20740fd16"
      },
      "outputs": [
        {
          "output_type": "stream",
          "name": "stdout",
          "text": [
            "大人\n",
            "大人ではない\n"
          ]
        }
      ],
      "source": [
        "class Human:\n",
        "  def __init__(self, name, age):\n",
        "    self.name = name\n",
        "    self.age = age\n",
        "\n",
        "  def check_adult(self):\n",
        "    if self.age >= 20:\n",
        "      print(\"大人\")\n",
        "    else:\n",
        "      print(\"大人ではない\")\n",
        "\n",
        "taro = Human(\"太郎\", 30)\n",
        "hanako = Human(\"花子\", 10)\n",
        "\n",
        "taro.check_adult()\n",
        "hanako.check_adult()"
      ]
    }
  ]
}