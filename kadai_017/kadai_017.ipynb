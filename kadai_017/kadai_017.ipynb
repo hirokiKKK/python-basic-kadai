{
  "nbformat": 4,
  "nbformat_minor": 0,
  "metadata": {
    "colab": {
      "provenance": []
    },
    "kernelspec": {
      "name": "python3",
      "display_name": "Python 3"
    },
    "language_info": {
      "name": "python"
    }
  },
  "cells": [
    {
      "cell_type": "code",
      "execution_count": 25,
      "metadata": {
        "colab": {
          "base_uri": "https://localhost:8080/"
        },
        "id": "puiOhiBE8qKI",
        "outputId": "162ecb1e-a6c3-4110-94bc-ae02b619f201"
      },
      "outputs": [
        {
          "output_type": "stream",
          "name": "stdout",
          "text": [
            "太郎は30歳で大人です\n",
            "花子は19歳で大人ではないです\n"
          ]
        }
      ],
      "source": [
        "class Human:\n",
        "  def __init__(self, name, age):\n",
        "    self.name = name\n",
        "    self.age = age\n",
        "\n",
        "  def check_adult(self):\n",
        "    if self.age >= 20:\n",
        "      print(f\"{self.name}は{self.age}歳で大人です\")\n",
        "    else:\n",
        "      print(f\"{self.name}は{self.age}歳で大人ではないです\")\n",
        "\n",
        "name_list = [\"太郎\", \"花子\"]\n",
        "age_list = [30, 19]\n",
        "\n",
        "for name,age in zip(name_list,age_list):\n",
        "  person = Human(name, age)\n",
        "  person.check_adult()"
      ]
    }
  ]
}