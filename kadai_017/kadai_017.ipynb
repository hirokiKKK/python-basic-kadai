{
  "nbformat": 4,
  "nbformat_minor": 0,
  "metadata": {
    "colab": {
      "provenance": []
    },
    "kernelspec": {
      "name": "python3",
      "display_name": "Python 3"
    },
    "language_info": {
      "name": "python"
    }
  },
  "cells": [
    {
      "cell_type": "code",
      "execution_count": 30,
      "metadata": {
        "colab": {
          "base_uri": "https://localhost:8080/"
        },
        "id": "puiOhiBE8qKI",
        "outputId": "26b3ea03-e2f9-40d2-c56a-669bc69ebf39"
      },
      "outputs": [
        {
          "output_type": "stream",
          "name": "stdout",
          "text": [
            "太郎は30歳で大人です\n",
            "花子は19歳で大人ではないです\n"
          ]
        }
      ],
      "source": [
        "class Human:\n",
        "  def __init__(self, name, age):\n",
        "    self.name = name\n",
        "    self.age = age\n",
        "\n",
        "  def check_adult(self):\n",
        "    if self.age >= 20:\n",
        "      print(f\"{self.name}は{self.age}歳で大人です\")\n",
        "    else:\n",
        "      print(f\"{self.name}は{self.age}歳で大人ではないです\")\n",
        "\n",
        "human_1 = Human(\"太郎\", 30)\n",
        "human_2 = Human(\"花子\", 19)\n",
        "\n",
        "humans = [human_1, human_2]\n",
        "\n",
        "for human in humans:\n",
        "  human.check_adult()"
      ]
    }
  ]
}